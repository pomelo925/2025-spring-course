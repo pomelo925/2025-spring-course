{
  "nbformat": 4,
  "nbformat_minor": 0,
  "metadata": {
    "colab": {
      "provenance": [],
      "gpuType": "T4"
    },
    "kernelspec": {
      "name": "python3",
      "display_name": "Python 3"
    },
    "language_info": {
      "name": "python"
    },
    "accelerator": "GPU",
    "widgets": {
      "application/vnd.jupyter.widget-state+json": {
        "0fec44f6ca90419c9b1b9b3513d1dde3": {
          "model_module": "@jupyter-widgets/controls",
          "model_name": "VBoxModel",
          "model_module_version": "1.5.0",
          "state": {
            "_dom_classes": [
              "widget-interact"
            ],
            "_model_module": "@jupyter-widgets/controls",
            "_model_module_version": "1.5.0",
            "_model_name": "VBoxModel",
            "_view_count": null,
            "_view_module": "@jupyter-widgets/controls",
            "_view_module_version": "1.5.0",
            "_view_name": "VBoxView",
            "box_style": "",
            "children": [
              "IPY_MODEL_b7101379b02d46fba73aaaa8a6bddf4a",
              "IPY_MODEL_b1d568c4c7bb422cb0e18ae942877d49",
              "IPY_MODEL_759af309c0cd4e80a9746014d978c95a"
            ],
            "layout": "IPY_MODEL_26ec6e19b185446496382cd01a16a27d"
          }
        },
        "b7101379b02d46fba73aaaa8a6bddf4a": {
          "model_module": "@jupyter-widgets/controls",
          "model_name": "IntSliderModel",
          "model_module_version": "1.5.0",
          "state": {
            "_dom_classes": [],
            "_model_module": "@jupyter-widgets/controls",
            "_model_module_version": "1.5.0",
            "_model_name": "IntSliderModel",
            "_view_count": null,
            "_view_module": "@jupyter-widgets/controls",
            "_view_module_version": "1.5.0",
            "_view_name": "IntSliderView",
            "continuous_update": true,
            "description": "n",
            "description_tooltip": null,
            "disabled": false,
            "layout": "IPY_MODEL_f3155312faa24c6a9ebff82280f171a2",
            "max": 59999,
            "min": 0,
            "orientation": "horizontal",
            "readout": true,
            "readout_format": "d",
            "step": 1,
            "style": "IPY_MODEL_5dfdd1b882dd4ca0a7c2c0b590b5b5be",
            "value": 0
          }
        },
        "b1d568c4c7bb422cb0e18ae942877d49": {
          "model_module": "@jupyter-widgets/controls",
          "model_name": "ButtonModel",
          "model_module_version": "1.5.0",
          "state": {
            "_dom_classes": [],
            "_model_module": "@jupyter-widgets/controls",
            "_model_module_version": "1.5.0",
            "_model_name": "ButtonModel",
            "_view_count": null,
            "_view_module": "@jupyter-widgets/controls",
            "_view_module_version": "1.5.0",
            "_view_name": "ButtonView",
            "button_style": "",
            "description": "Run Interact",
            "disabled": false,
            "icon": "",
            "layout": "IPY_MODEL_64a0b54720584e3b93710b07c50c1eef",
            "style": "IPY_MODEL_a18335c614d64aec9edc40a7c88d1a79",
            "tooltip": ""
          }
        },
        "759af309c0cd4e80a9746014d978c95a": {
          "model_module": "@jupyter-widgets/output",
          "model_name": "OutputModel",
          "model_module_version": "1.0.0",
          "state": {
            "_dom_classes": [],
            "_model_module": "@jupyter-widgets/output",
            "_model_module_version": "1.0.0",
            "_model_name": "OutputModel",
            "_view_count": null,
            "_view_module": "@jupyter-widgets/output",
            "_view_module_version": "1.0.0",
            "_view_name": "OutputView",
            "layout": "IPY_MODEL_ca9c464c0d5641b5bf6073eb2c6ee76b",
            "msg_id": "",
            "outputs": []
          }
        },
        "26ec6e19b185446496382cd01a16a27d": {
          "model_module": "@jupyter-widgets/base",
          "model_name": "LayoutModel",
          "model_module_version": "1.2.0",
          "state": {
            "_model_module": "@jupyter-widgets/base",
            "_model_module_version": "1.2.0",
            "_model_name": "LayoutModel",
            "_view_count": null,
            "_view_module": "@jupyter-widgets/base",
            "_view_module_version": "1.2.0",
            "_view_name": "LayoutView",
            "align_content": null,
            "align_items": null,
            "align_self": null,
            "border": null,
            "bottom": null,
            "display": null,
            "flex": null,
            "flex_flow": null,
            "grid_area": null,
            "grid_auto_columns": null,
            "grid_auto_flow": null,
            "grid_auto_rows": null,
            "grid_column": null,
            "grid_gap": null,
            "grid_row": null,
            "grid_template_areas": null,
            "grid_template_columns": null,
            "grid_template_rows": null,
            "height": null,
            "justify_content": null,
            "justify_items": null,
            "left": null,
            "margin": null,
            "max_height": null,
            "max_width": null,
            "min_height": null,
            "min_width": null,
            "object_fit": null,
            "object_position": null,
            "order": null,
            "overflow": null,
            "overflow_x": null,
            "overflow_y": null,
            "padding": null,
            "right": null,
            "top": null,
            "visibility": null,
            "width": null
          }
        },
        "f3155312faa24c6a9ebff82280f171a2": {
          "model_module": "@jupyter-widgets/base",
          "model_name": "LayoutModel",
          "model_module_version": "1.2.0",
          "state": {
            "_model_module": "@jupyter-widgets/base",
            "_model_module_version": "1.2.0",
            "_model_name": "LayoutModel",
            "_view_count": null,
            "_view_module": "@jupyter-widgets/base",
            "_view_module_version": "1.2.0",
            "_view_name": "LayoutView",
            "align_content": null,
            "align_items": null,
            "align_self": null,
            "border": null,
            "bottom": null,
            "display": null,
            "flex": null,
            "flex_flow": null,
            "grid_area": null,
            "grid_auto_columns": null,
            "grid_auto_flow": null,
            "grid_auto_rows": null,
            "grid_column": null,
            "grid_gap": null,
            "grid_row": null,
            "grid_template_areas": null,
            "grid_template_columns": null,
            "grid_template_rows": null,
            "height": null,
            "justify_content": null,
            "justify_items": null,
            "left": null,
            "margin": null,
            "max_height": null,
            "max_width": null,
            "min_height": null,
            "min_width": null,
            "object_fit": null,
            "object_position": null,
            "order": null,
            "overflow": null,
            "overflow_x": null,
            "overflow_y": null,
            "padding": null,
            "right": null,
            "top": null,
            "visibility": null,
            "width": null
          }
        },
        "5dfdd1b882dd4ca0a7c2c0b590b5b5be": {
          "model_module": "@jupyter-widgets/controls",
          "model_name": "SliderStyleModel",
          "model_module_version": "1.5.0",
          "state": {
            "_model_module": "@jupyter-widgets/controls",
            "_model_module_version": "1.5.0",
            "_model_name": "SliderStyleModel",
            "_view_count": null,
            "_view_module": "@jupyter-widgets/base",
            "_view_module_version": "1.2.0",
            "_view_name": "StyleView",
            "description_width": "",
            "handle_color": null
          }
        },
        "64a0b54720584e3b93710b07c50c1eef": {
          "model_module": "@jupyter-widgets/base",
          "model_name": "LayoutModel",
          "model_module_version": "1.2.0",
          "state": {
            "_model_module": "@jupyter-widgets/base",
            "_model_module_version": "1.2.0",
            "_model_name": "LayoutModel",
            "_view_count": null,
            "_view_module": "@jupyter-widgets/base",
            "_view_module_version": "1.2.0",
            "_view_name": "LayoutView",
            "align_content": null,
            "align_items": null,
            "align_self": null,
            "border": null,
            "bottom": null,
            "display": null,
            "flex": null,
            "flex_flow": null,
            "grid_area": null,
            "grid_auto_columns": null,
            "grid_auto_flow": null,
            "grid_auto_rows": null,
            "grid_column": null,
            "grid_gap": null,
            "grid_row": null,
            "grid_template_areas": null,
            "grid_template_columns": null,
            "grid_template_rows": null,
            "height": null,
            "justify_content": null,
            "justify_items": null,
            "left": null,
            "margin": null,
            "max_height": null,
            "max_width": null,
            "min_height": null,
            "min_width": null,
            "object_fit": null,
            "object_position": null,
            "order": null,
            "overflow": null,
            "overflow_x": null,
            "overflow_y": null,
            "padding": null,
            "right": null,
            "top": null,
            "visibility": null,
            "width": null
          }
        },
        "a18335c614d64aec9edc40a7c88d1a79": {
          "model_module": "@jupyter-widgets/controls",
          "model_name": "ButtonStyleModel",
          "model_module_version": "1.5.0",
          "state": {
            "_model_module": "@jupyter-widgets/controls",
            "_model_module_version": "1.5.0",
            "_model_name": "ButtonStyleModel",
            "_view_count": null,
            "_view_module": "@jupyter-widgets/base",
            "_view_module_version": "1.2.0",
            "_view_name": "StyleView",
            "button_color": null,
            "font_weight": ""
          }
        },
        "ca9c464c0d5641b5bf6073eb2c6ee76b": {
          "model_module": "@jupyter-widgets/base",
          "model_name": "LayoutModel",
          "model_module_version": "1.2.0",
          "state": {
            "_model_module": "@jupyter-widgets/base",
            "_model_module_version": "1.2.0",
            "_model_name": "LayoutModel",
            "_view_count": null,
            "_view_module": "@jupyter-widgets/base",
            "_view_module_version": "1.2.0",
            "_view_name": "LayoutView",
            "align_content": null,
            "align_items": null,
            "align_self": null,
            "border": null,
            "bottom": null,
            "display": null,
            "flex": null,
            "flex_flow": null,
            "grid_area": null,
            "grid_auto_columns": null,
            "grid_auto_flow": null,
            "grid_auto_rows": null,
            "grid_column": null,
            "grid_gap": null,
            "grid_row": null,
            "grid_template_areas": null,
            "grid_template_columns": null,
            "grid_template_rows": null,
            "height": null,
            "justify_content": null,
            "justify_items": null,
            "left": null,
            "margin": null,
            "max_height": null,
            "max_width": null,
            "min_height": null,
            "min_width": null,
            "object_fit": null,
            "object_position": null,
            "order": null,
            "overflow": null,
            "overflow_x": null,
            "overflow_y": null,
            "padding": null,
            "right": null,
            "top": null,
            "visibility": null,
            "width": null
          }
        },
        "fcafd7b27afe4ccabc426d9454d3e529": {
          "model_module": "@jupyter-widgets/controls",
          "model_name": "VBoxModel",
          "model_module_version": "1.5.0",
          "state": {
            "_dom_classes": [
              "widget-interact"
            ],
            "_model_module": "@jupyter-widgets/controls",
            "_model_module_version": "1.5.0",
            "_model_name": "VBoxModel",
            "_view_count": null,
            "_view_module": "@jupyter-widgets/controls",
            "_view_module_version": "1.5.0",
            "_view_name": "VBoxView",
            "box_style": "",
            "children": [
              "IPY_MODEL_881199afd6464e52b1507d8cd3e81441",
              "IPY_MODEL_815d3ee58813461e975d5d2c1325e3c2",
              "IPY_MODEL_6e9c4d9102924168abbbbb773a19162a"
            ],
            "layout": "IPY_MODEL_4355cd851259446dabbcf2085816e10c"
          }
        },
        "881199afd6464e52b1507d8cd3e81441": {
          "model_module": "@jupyter-widgets/controls",
          "model_name": "IntSliderModel",
          "model_module_version": "1.5.0",
          "state": {
            "_dom_classes": [],
            "_model_module": "@jupyter-widgets/controls",
            "_model_module_version": "1.5.0",
            "_model_name": "IntSliderModel",
            "_view_count": null,
            "_view_module": "@jupyter-widgets/controls",
            "_view_module_version": "1.5.0",
            "_view_name": "IntSliderView",
            "continuous_update": true,
            "description": "num",
            "description_tooltip": null,
            "disabled": false,
            "layout": "IPY_MODEL_1112ff2112ee4458a0da03b34a50040b",
            "max": 9999,
            "min": 0,
            "orientation": "horizontal",
            "readout": true,
            "readout_format": "d",
            "step": 1,
            "style": "IPY_MODEL_8042172706cf42a5895c70a5a26dfc1d",
            "value": 4999
          }
        },
        "815d3ee58813461e975d5d2c1325e3c2": {
          "model_module": "@jupyter-widgets/controls",
          "model_name": "ButtonModel",
          "model_module_version": "1.5.0",
          "state": {
            "_dom_classes": [],
            "_model_module": "@jupyter-widgets/controls",
            "_model_module_version": "1.5.0",
            "_model_name": "ButtonModel",
            "_view_count": null,
            "_view_module": "@jupyter-widgets/controls",
            "_view_module_version": "1.5.0",
            "_view_name": "ButtonView",
            "button_style": "",
            "description": "Run Interact",
            "disabled": false,
            "icon": "",
            "layout": "IPY_MODEL_d6114b03d0b94ff4a3bd34b1de3aacf6",
            "style": "IPY_MODEL_c67112a87fd949719dd4211a5006e194",
            "tooltip": ""
          }
        },
        "6e9c4d9102924168abbbbb773a19162a": {
          "model_module": "@jupyter-widgets/output",
          "model_name": "OutputModel",
          "model_module_version": "1.0.0",
          "state": {
            "_dom_classes": [],
            "_model_module": "@jupyter-widgets/output",
            "_model_module_version": "1.0.0",
            "_model_name": "OutputModel",
            "_view_count": null,
            "_view_module": "@jupyter-widgets/output",
            "_view_module_version": "1.0.0",
            "_view_name": "OutputView",
            "layout": "IPY_MODEL_f0026f7c23514822a0302922bfc7eeb9",
            "msg_id": "",
            "outputs": []
          }
        },
        "4355cd851259446dabbcf2085816e10c": {
          "model_module": "@jupyter-widgets/base",
          "model_name": "LayoutModel",
          "model_module_version": "1.2.0",
          "state": {
            "_model_module": "@jupyter-widgets/base",
            "_model_module_version": "1.2.0",
            "_model_name": "LayoutModel",
            "_view_count": null,
            "_view_module": "@jupyter-widgets/base",
            "_view_module_version": "1.2.0",
            "_view_name": "LayoutView",
            "align_content": null,
            "align_items": null,
            "align_self": null,
            "border": null,
            "bottom": null,
            "display": null,
            "flex": null,
            "flex_flow": null,
            "grid_area": null,
            "grid_auto_columns": null,
            "grid_auto_flow": null,
            "grid_auto_rows": null,
            "grid_column": null,
            "grid_gap": null,
            "grid_row": null,
            "grid_template_areas": null,
            "grid_template_columns": null,
            "grid_template_rows": null,
            "height": null,
            "justify_content": null,
            "justify_items": null,
            "left": null,
            "margin": null,
            "max_height": null,
            "max_width": null,
            "min_height": null,
            "min_width": null,
            "object_fit": null,
            "object_position": null,
            "order": null,
            "overflow": null,
            "overflow_x": null,
            "overflow_y": null,
            "padding": null,
            "right": null,
            "top": null,
            "visibility": null,
            "width": null
          }
        },
        "1112ff2112ee4458a0da03b34a50040b": {
          "model_module": "@jupyter-widgets/base",
          "model_name": "LayoutModel",
          "model_module_version": "1.2.0",
          "state": {
            "_model_module": "@jupyter-widgets/base",
            "_model_module_version": "1.2.0",
            "_model_name": "LayoutModel",
            "_view_count": null,
            "_view_module": "@jupyter-widgets/base",
            "_view_module_version": "1.2.0",
            "_view_name": "LayoutView",
            "align_content": null,
            "align_items": null,
            "align_self": null,
            "border": null,
            "bottom": null,
            "display": null,
            "flex": null,
            "flex_flow": null,
            "grid_area": null,
            "grid_auto_columns": null,
            "grid_auto_flow": null,
            "grid_auto_rows": null,
            "grid_column": null,
            "grid_gap": null,
            "grid_row": null,
            "grid_template_areas": null,
            "grid_template_columns": null,
            "grid_template_rows": null,
            "height": null,
            "justify_content": null,
            "justify_items": null,
            "left": null,
            "margin": null,
            "max_height": null,
            "max_width": null,
            "min_height": null,
            "min_width": null,
            "object_fit": null,
            "object_position": null,
            "order": null,
            "overflow": null,
            "overflow_x": null,
            "overflow_y": null,
            "padding": null,
            "right": null,
            "top": null,
            "visibility": null,
            "width": null
          }
        },
        "8042172706cf42a5895c70a5a26dfc1d": {
          "model_module": "@jupyter-widgets/controls",
          "model_name": "SliderStyleModel",
          "model_module_version": "1.5.0",
          "state": {
            "_model_module": "@jupyter-widgets/controls",
            "_model_module_version": "1.5.0",
            "_model_name": "SliderStyleModel",
            "_view_count": null,
            "_view_module": "@jupyter-widgets/base",
            "_view_module_version": "1.2.0",
            "_view_name": "StyleView",
            "description_width": "",
            "handle_color": null
          }
        },
        "d6114b03d0b94ff4a3bd34b1de3aacf6": {
          "model_module": "@jupyter-widgets/base",
          "model_name": "LayoutModel",
          "model_module_version": "1.2.0",
          "state": {
            "_model_module": "@jupyter-widgets/base",
            "_model_module_version": "1.2.0",
            "_model_name": "LayoutModel",
            "_view_count": null,
            "_view_module": "@jupyter-widgets/base",
            "_view_module_version": "1.2.0",
            "_view_name": "LayoutView",
            "align_content": null,
            "align_items": null,
            "align_self": null,
            "border": null,
            "bottom": null,
            "display": null,
            "flex": null,
            "flex_flow": null,
            "grid_area": null,
            "grid_auto_columns": null,
            "grid_auto_flow": null,
            "grid_auto_rows": null,
            "grid_column": null,
            "grid_gap": null,
            "grid_row": null,
            "grid_template_areas": null,
            "grid_template_columns": null,
            "grid_template_rows": null,
            "height": null,
            "justify_content": null,
            "justify_items": null,
            "left": null,
            "margin": null,
            "max_height": null,
            "max_width": null,
            "min_height": null,
            "min_width": null,
            "object_fit": null,
            "object_position": null,
            "order": null,
            "overflow": null,
            "overflow_x": null,
            "overflow_y": null,
            "padding": null,
            "right": null,
            "top": null,
            "visibility": null,
            "width": null
          }
        },
        "c67112a87fd949719dd4211a5006e194": {
          "model_module": "@jupyter-widgets/controls",
          "model_name": "ButtonStyleModel",
          "model_module_version": "1.5.0",
          "state": {
            "_model_module": "@jupyter-widgets/controls",
            "_model_module_version": "1.5.0",
            "_model_name": "ButtonStyleModel",
            "_view_count": null,
            "_view_module": "@jupyter-widgets/base",
            "_view_module_version": "1.2.0",
            "_view_name": "StyleView",
            "button_color": null,
            "font_weight": ""
          }
        },
        "f0026f7c23514822a0302922bfc7eeb9": {
          "model_module": "@jupyter-widgets/base",
          "model_name": "LayoutModel",
          "model_module_version": "1.2.0",
          "state": {
            "_model_module": "@jupyter-widgets/base",
            "_model_module_version": "1.2.0",
            "_model_name": "LayoutModel",
            "_view_count": null,
            "_view_module": "@jupyter-widgets/base",
            "_view_module_version": "1.2.0",
            "_view_name": "LayoutView",
            "align_content": null,
            "align_items": null,
            "align_self": null,
            "border": null,
            "bottom": null,
            "display": null,
            "flex": null,
            "flex_flow": null,
            "grid_area": null,
            "grid_auto_columns": null,
            "grid_auto_flow": null,
            "grid_auto_rows": null,
            "grid_column": null,
            "grid_gap": null,
            "grid_row": null,
            "grid_template_areas": null,
            "grid_template_columns": null,
            "grid_template_rows": null,
            "height": null,
            "justify_content": null,
            "justify_items": null,
            "left": null,
            "margin": null,
            "max_height": null,
            "max_width": null,
            "min_height": null,
            "min_width": null,
            "object_fit": null,
            "object_position": null,
            "order": null,
            "overflow": null,
            "overflow_x": null,
            "overflow_y": null,
            "padding": null,
            "right": null,
            "top": null,
            "visibility": null,
            "width": null
          }
        }
      }
    }
  },
  "cells": [
    {
      "cell_type": "markdown",
      "source": [
        "# MNIST 手寫數字辨識\n",
        "\n",
        "> 參考資料：老師講義與 [[Tesorflow Keras 學習筆記]新手一定要玩的MNIST手寫數字辨識](https://sweetornotspicymarathon.medium.com/tesorflow-keras-%E5%AD%B8%E7%BF%92%E7%AD%86%E8%A8%98-%E6%96%B0%E6%89%8B%E4%B8%80%E5%AE%9A%E8%A6%81%E7%8E%A9%E7%9A%84mnist%E6%89%8B%E5%AF%AB%E6%95%B8%E5%AD%97%E8%BE%A8%E8%AD%98-9327366cc838#5348)\n",
        "\n",
        "</br>\n",
        "自己創造一個簡單的神經網路架構, 來訓練並驗證開源的手寫數字訓練集。"
      ],
      "metadata": {
        "id": "q71oZ6mRmtdk"
      }
    },
    {
      "cell_type": "markdown",
      "source": [
        "## A. 引入必要資源"
      ],
      "metadata": {
        "id": "a30bupyVTryz"
      }
    },
    {
      "cell_type": "markdown",
      "source": [
        "### A-1. 安裝依賴項 & 引入函式庫"
      ],
      "metadata": {
        "id": "sRVNQyhKnMdP"
      }
    },
    {
      "cell_type": "code",
      "execution_count": null,
      "metadata": {
        "id": "dprts6gLTSsN",
        "colab": {
          "base_uri": "https://localhost:8080/"
        },
        "outputId": "21092619-09df-4ce6-cd07-3566e297ffe9"
      },
      "outputs": [
        {
          "output_type": "stream",
          "name": "stdout",
          "text": [
            "Collecting gradio\n",
            "  Downloading gradio-5.20.1-py3-none-any.whl.metadata (16 kB)\n",
            "Collecting aiofiles<24.0,>=22.0 (from gradio)\n",
            "  Downloading aiofiles-23.2.1-py3-none-any.whl.metadata (9.7 kB)\n",
            "Requirement already satisfied: anyio<5.0,>=3.0 in /usr/local/lib/python3.11/dist-packages (from gradio) (3.7.1)\n",
            "Collecting fastapi<1.0,>=0.115.2 (from gradio)\n",
            "  Downloading fastapi-0.115.11-py3-none-any.whl.metadata (27 kB)\n",
            "Collecting ffmpy (from gradio)\n",
            "  Downloading ffmpy-0.5.0-py3-none-any.whl.metadata (3.0 kB)\n",
            "Collecting gradio-client==1.7.2 (from gradio)\n",
            "  Downloading gradio_client-1.7.2-py3-none-any.whl.metadata (7.1 kB)\n",
            "Collecting groovy~=0.1 (from gradio)\n",
            "  Downloading groovy-0.1.2-py3-none-any.whl.metadata (6.1 kB)\n",
            "Requirement already satisfied: httpx>=0.24.1 in /usr/local/lib/python3.11/dist-packages (from gradio) (0.28.1)\n",
            "Requirement already satisfied: huggingface-hub>=0.28.1 in /usr/local/lib/python3.11/dist-packages (from gradio) (0.28.1)\n",
            "Requirement already satisfied: jinja2<4.0 in /usr/local/lib/python3.11/dist-packages (from gradio) (3.1.5)\n",
            "Collecting markupsafe~=2.0 (from gradio)\n",
            "  Downloading MarkupSafe-2.1.5-cp311-cp311-manylinux_2_17_x86_64.manylinux2014_x86_64.whl.metadata (3.0 kB)\n",
            "Requirement already satisfied: numpy<3.0,>=1.0 in /usr/local/lib/python3.11/dist-packages (from gradio) (1.26.4)\n",
            "Requirement already satisfied: orjson~=3.0 in /usr/local/lib/python3.11/dist-packages (from gradio) (3.10.15)\n",
            "Requirement already satisfied: packaging in /usr/local/lib/python3.11/dist-packages (from gradio) (24.2)\n",
            "Requirement already satisfied: pandas<3.0,>=1.0 in /usr/local/lib/python3.11/dist-packages (from gradio) (2.2.2)\n",
            "Requirement already satisfied: pillow<12.0,>=8.0 in /usr/local/lib/python3.11/dist-packages (from gradio) (11.1.0)\n",
            "Requirement already satisfied: pydantic>=2.0 in /usr/local/lib/python3.11/dist-packages (from gradio) (2.10.6)\n",
            "Collecting pydub (from gradio)\n",
            "  Downloading pydub-0.25.1-py2.py3-none-any.whl.metadata (1.4 kB)\n",
            "Collecting python-multipart>=0.0.18 (from gradio)\n",
            "  Downloading python_multipart-0.0.20-py3-none-any.whl.metadata (1.8 kB)\n",
            "Requirement already satisfied: pyyaml<7.0,>=5.0 in /usr/local/lib/python3.11/dist-packages (from gradio) (6.0.2)\n",
            "Collecting ruff>=0.9.3 (from gradio)\n",
            "  Downloading ruff-0.9.10-py3-none-manylinux_2_17_x86_64.manylinux2014_x86_64.whl.metadata (25 kB)\n",
            "Collecting safehttpx<0.2.0,>=0.1.6 (from gradio)\n",
            "  Downloading safehttpx-0.1.6-py3-none-any.whl.metadata (4.2 kB)\n",
            "Collecting semantic-version~=2.0 (from gradio)\n",
            "  Downloading semantic_version-2.10.0-py2.py3-none-any.whl.metadata (9.7 kB)\n",
            "Collecting starlette<1.0,>=0.40.0 (from gradio)\n",
            "  Downloading starlette-0.46.1-py3-none-any.whl.metadata (6.2 kB)\n",
            "Collecting tomlkit<0.14.0,>=0.12.0 (from gradio)\n",
            "  Downloading tomlkit-0.13.2-py3-none-any.whl.metadata (2.7 kB)\n",
            "Requirement already satisfied: typer<1.0,>=0.12 in /usr/local/lib/python3.11/dist-packages (from gradio) (0.15.2)\n",
            "Requirement already satisfied: typing-extensions~=4.0 in /usr/local/lib/python3.11/dist-packages (from gradio) (4.12.2)\n",
            "Collecting uvicorn>=0.14.0 (from gradio)\n",
            "  Downloading uvicorn-0.34.0-py3-none-any.whl.metadata (6.5 kB)\n",
            "Requirement already satisfied: fsspec in /usr/local/lib/python3.11/dist-packages (from gradio-client==1.7.2->gradio) (2024.10.0)\n",
            "Requirement already satisfied: websockets<16.0,>=10.0 in /usr/local/lib/python3.11/dist-packages (from gradio-client==1.7.2->gradio) (14.2)\n",
            "Requirement already satisfied: idna>=2.8 in /usr/local/lib/python3.11/dist-packages (from anyio<5.0,>=3.0->gradio) (3.10)\n",
            "Requirement already satisfied: sniffio>=1.1 in /usr/local/lib/python3.11/dist-packages (from anyio<5.0,>=3.0->gradio) (1.3.1)\n",
            "Requirement already satisfied: certifi in /usr/local/lib/python3.11/dist-packages (from httpx>=0.24.1->gradio) (2025.1.31)\n",
            "Requirement already satisfied: httpcore==1.* in /usr/local/lib/python3.11/dist-packages (from httpx>=0.24.1->gradio) (1.0.7)\n",
            "Requirement already satisfied: h11<0.15,>=0.13 in /usr/local/lib/python3.11/dist-packages (from httpcore==1.*->httpx>=0.24.1->gradio) (0.14.0)\n",
            "Requirement already satisfied: filelock in /usr/local/lib/python3.11/dist-packages (from huggingface-hub>=0.28.1->gradio) (3.17.0)\n",
            "Requirement already satisfied: requests in /usr/local/lib/python3.11/dist-packages (from huggingface-hub>=0.28.1->gradio) (2.32.3)\n",
            "Requirement already satisfied: tqdm>=4.42.1 in /usr/local/lib/python3.11/dist-packages (from huggingface-hub>=0.28.1->gradio) (4.67.1)\n",
            "Requirement already satisfied: python-dateutil>=2.8.2 in /usr/local/lib/python3.11/dist-packages (from pandas<3.0,>=1.0->gradio) (2.8.2)\n",
            "Requirement already satisfied: pytz>=2020.1 in /usr/local/lib/python3.11/dist-packages (from pandas<3.0,>=1.0->gradio) (2025.1)\n",
            "Requirement already satisfied: tzdata>=2022.7 in /usr/local/lib/python3.11/dist-packages (from pandas<3.0,>=1.0->gradio) (2025.1)\n",
            "Requirement already satisfied: annotated-types>=0.6.0 in /usr/local/lib/python3.11/dist-packages (from pydantic>=2.0->gradio) (0.7.0)\n",
            "Requirement already satisfied: pydantic-core==2.27.2 in /usr/local/lib/python3.11/dist-packages (from pydantic>=2.0->gradio) (2.27.2)\n",
            "Requirement already satisfied: click>=8.0.0 in /usr/local/lib/python3.11/dist-packages (from typer<1.0,>=0.12->gradio) (8.1.8)\n",
            "Requirement already satisfied: shellingham>=1.3.0 in /usr/local/lib/python3.11/dist-packages (from typer<1.0,>=0.12->gradio) (1.5.4)\n",
            "Requirement already satisfied: rich>=10.11.0 in /usr/local/lib/python3.11/dist-packages (from typer<1.0,>=0.12->gradio) (13.9.4)\n",
            "Requirement already satisfied: six>=1.5 in /usr/local/lib/python3.11/dist-packages (from python-dateutil>=2.8.2->pandas<3.0,>=1.0->gradio) (1.17.0)\n",
            "Requirement already satisfied: markdown-it-py>=2.2.0 in /usr/local/lib/python3.11/dist-packages (from rich>=10.11.0->typer<1.0,>=0.12->gradio) (3.0.0)\n",
            "Requirement already satisfied: pygments<3.0.0,>=2.13.0 in /usr/local/lib/python3.11/dist-packages (from rich>=10.11.0->typer<1.0,>=0.12->gradio) (2.18.0)\n",
            "Requirement already satisfied: charset-normalizer<4,>=2 in /usr/local/lib/python3.11/dist-packages (from requests->huggingface-hub>=0.28.1->gradio) (3.4.1)\n",
            "Requirement already satisfied: urllib3<3,>=1.21.1 in /usr/local/lib/python3.11/dist-packages (from requests->huggingface-hub>=0.28.1->gradio) (2.3.0)\n",
            "Requirement already satisfied: mdurl~=0.1 in /usr/local/lib/python3.11/dist-packages (from markdown-it-py>=2.2.0->rich>=10.11.0->typer<1.0,>=0.12->gradio) (0.1.2)\n",
            "Downloading gradio-5.20.1-py3-none-any.whl (62.3 MB)\n",
            "\u001b[2K   \u001b[90m━━━━━━━━━━━━━━━━━━━━━━━━━━━━━━━━━━━━━━━━\u001b[0m \u001b[32m62.3/62.3 MB\u001b[0m \u001b[31m9.5 MB/s\u001b[0m eta \u001b[36m0:00:00\u001b[0m\n",
            "\u001b[?25hDownloading gradio_client-1.7.2-py3-none-any.whl (322 kB)\n",
            "\u001b[2K   \u001b[90m━━━━━━━━━━━━━━━━━━━━━━━━━━━━━━━━━━━━━━━━\u001b[0m \u001b[32m322.1/322.1 kB\u001b[0m \u001b[31m21.1 MB/s\u001b[0m eta \u001b[36m0:00:00\u001b[0m\n",
            "\u001b[?25hDownloading aiofiles-23.2.1-py3-none-any.whl (15 kB)\n",
            "Downloading fastapi-0.115.11-py3-none-any.whl (94 kB)\n",
            "\u001b[2K   \u001b[90m━━━━━━━━━━━━━━━━━━━━━━━━━━━━━━━━━━━━━━━━\u001b[0m \u001b[32m94.9/94.9 kB\u001b[0m \u001b[31m8.0 MB/s\u001b[0m eta \u001b[36m0:00:00\u001b[0m\n",
            "\u001b[?25hDownloading groovy-0.1.2-py3-none-any.whl (14 kB)\n",
            "Downloading MarkupSafe-2.1.5-cp311-cp311-manylinux_2_17_x86_64.manylinux2014_x86_64.whl (28 kB)\n",
            "Downloading python_multipart-0.0.20-py3-none-any.whl (24 kB)\n",
            "Downloading ruff-0.9.10-py3-none-manylinux_2_17_x86_64.manylinux2014_x86_64.whl (11.3 MB)\n",
            "\u001b[2K   \u001b[90m━━━━━━━━━━━━━━━━━━━━━━━━━━━━━━━━━━━━━━━━\u001b[0m \u001b[32m11.3/11.3 MB\u001b[0m \u001b[31m90.2 MB/s\u001b[0m eta \u001b[36m0:00:00\u001b[0m\n",
            "\u001b[?25hDownloading safehttpx-0.1.6-py3-none-any.whl (8.7 kB)\n",
            "Downloading semantic_version-2.10.0-py2.py3-none-any.whl (15 kB)\n",
            "Downloading starlette-0.46.1-py3-none-any.whl (71 kB)\n",
            "\u001b[2K   \u001b[90m━━━━━━━━━━━━━━━━━━━━━━━━━━━━━━━━━━━━━━━━\u001b[0m \u001b[32m72.0/72.0 kB\u001b[0m \u001b[31m5.6 MB/s\u001b[0m eta \u001b[36m0:00:00\u001b[0m\n",
            "\u001b[?25hDownloading tomlkit-0.13.2-py3-none-any.whl (37 kB)\n",
            "Downloading uvicorn-0.34.0-py3-none-any.whl (62 kB)\n",
            "\u001b[2K   \u001b[90m━━━━━━━━━━━━━━━━━━━━━━━━━━━━━━━━━━━━━━━━\u001b[0m \u001b[32m62.3/62.3 kB\u001b[0m \u001b[31m4.9 MB/s\u001b[0m eta \u001b[36m0:00:00\u001b[0m\n",
            "\u001b[?25hDownloading ffmpy-0.5.0-py3-none-any.whl (6.0 kB)\n",
            "Downloading pydub-0.25.1-py2.py3-none-any.whl (32 kB)\n",
            "Installing collected packages: pydub, uvicorn, tomlkit, semantic-version, ruff, python-multipart, markupsafe, groovy, ffmpy, aiofiles, starlette, safehttpx, gradio-client, fastapi, gradio\n",
            "  Attempting uninstall: markupsafe\n",
            "    Found existing installation: MarkupSafe 3.0.2\n",
            "    Uninstalling MarkupSafe-3.0.2:\n",
            "      Successfully uninstalled MarkupSafe-3.0.2\n",
            "Successfully installed aiofiles-23.2.1 fastapi-0.115.11 ffmpy-0.5.0 gradio-5.20.1 gradio-client-1.7.2 groovy-0.1.2 markupsafe-2.1.5 pydub-0.25.1 python-multipart-0.0.20 ruff-0.9.10 safehttpx-0.1.6 semantic-version-2.10.0 starlette-0.46.1 tomlkit-0.13.2 uvicorn-0.34.0\n"
          ]
        }
      ],
      "source": [
        "!pip install gradio"
      ]
    },
    {
      "cell_type": "code",
      "source": [
        "%matplotlib inline\n",
        "\n",
        "# 數據分析\n",
        "import numpy as np\n",
        "import matplotlib.pyplot as plt\n",
        "from PIL import Image\n",
        "\n",
        "# 神經網路\n",
        "import tensorflow as tf\n",
        "from tensorflow.keras.datasets import mnist\n",
        "from tensorflow.keras.utils import to_categorical\n",
        "from tensorflow.keras.models import Sequential\n",
        "from tensorflow.keras.layers import Dense, Dropout, Flatten, Input\n",
        "from tensorflow.keras.optimizers import SGD\n",
        "\n",
        "# 互動設計\n",
        "from ipywidgets import interact_manual\n",
        "\n",
        "# 神經打造 web app 的 Gradio\n",
        "import gradio as gr"
      ],
      "metadata": {
        "id": "kcemUWy-V__m"
      },
      "execution_count": null,
      "outputs": []
    },
    {
      "cell_type": "markdown",
      "source": [
        "### A-2. 提取開源資料集\n"
      ],
      "metadata": {
        "id": "KQd42JxTXGHC"
      }
    },
    {
      "cell_type": "code",
      "source": [
        "# 下載 nmist 資料集\n",
        "(x_train, y_train), (x_test, y_test) = mnist.load_data()"
      ],
      "metadata": {
        "id": "RbTZ-IUiXIcM",
        "colab": {
          "base_uri": "https://localhost:8080/"
        },
        "outputId": "2c9e1575-d277-4ffb-b284-01db2f1734eb"
      },
      "execution_count": null,
      "outputs": [
        {
          "output_type": "stream",
          "name": "stdout",
          "text": [
            "Downloading data from https://storage.googleapis.com/tensorflow/tf-keras-datasets/mnist.npz\n",
            "\u001b[1m11490434/11490434\u001b[0m \u001b[32m━━━━━━━━━━━━━━━━━━━━\u001b[0m\u001b[37m\u001b[0m \u001b[1m0s\u001b[0m 0us/step\n"
          ]
        }
      ]
    },
    {
      "cell_type": "code",
      "source": [
        "# 檢驗 tagged data（圖片）\n",
        "def show_xy(n=0):\n",
        "    ax = plt.gca()\n",
        "    X = x_train[n]\n",
        "    plt.xticks([],[])\n",
        "    plt.yticks([],[])\n",
        "    plt.imshow(X, cmap = 'Greys')\n",
        "    print(f'ans: {y_train[n]}')\n",
        "\n",
        "# 檢驗 tagged data (陣列)\n",
        "def show_data(n=100):\n",
        "    X = x_train[n]\n",
        "    print(X)\n",
        "\n",
        "# 交互界面(擇一)\n",
        "interact_manual(show_xy, n=(0, len(x_train)-1))\n",
        "# interact_manual(show_data, n=(0, len(x_train)-1))"
      ],
      "metadata": {
        "id": "XWWdiD7LaTBA",
        "colab": {
          "base_uri": "https://localhost:8080/",
          "height": 179,
          "referenced_widgets": [
            "0fec44f6ca90419c9b1b9b3513d1dde3",
            "b7101379b02d46fba73aaaa8a6bddf4a",
            "b1d568c4c7bb422cb0e18ae942877d49",
            "759af309c0cd4e80a9746014d978c95a",
            "26ec6e19b185446496382cd01a16a27d",
            "f3155312faa24c6a9ebff82280f171a2",
            "5dfdd1b882dd4ca0a7c2c0b590b5b5be",
            "64a0b54720584e3b93710b07c50c1eef",
            "a18335c614d64aec9edc40a7c88d1a79",
            "ca9c464c0d5641b5bf6073eb2c6ee76b"
          ]
        },
        "outputId": "5c902b11-c749-483d-e0ac-6c013bc19fe9"
      },
      "execution_count": null,
      "outputs": [
        {
          "output_type": "display_data",
          "data": {
            "text/plain": [
              "interactive(children=(IntSlider(value=0, description='n', max=59999), Button(description='Run Interact', style…"
            ],
            "application/vnd.jupyter.widget-view+json": {
              "version_major": 2,
              "version_minor": 0,
              "model_id": "0fec44f6ca90419c9b1b9b3513d1dde3"
            }
          },
          "metadata": {}
        },
        {
          "output_type": "execute_result",
          "data": {
            "text/plain": [
              "<function __main__.show_xy(n=0)>"
            ],
            "text/html": [
              "<div style=\"max-width:800px; border: 1px solid var(--colab-border-color);\"><style>\n",
              "      pre.function-repr-contents {\n",
              "        overflow-x: auto;\n",
              "        padding: 8px 12px;\n",
              "        max-height: 500px;\n",
              "      }\n",
              "\n",
              "      pre.function-repr-contents.function-repr-contents-collapsed {\n",
              "        cursor: pointer;\n",
              "        max-height: 100px;\n",
              "      }\n",
              "    </style>\n",
              "    <pre style=\"white-space: initial; background:\n",
              "         var(--colab-secondary-surface-color); padding: 8px 12px;\n",
              "         border-bottom: 1px solid var(--colab-border-color);\"><b>show_xy</b><br/>def show_xy(n=0)</pre><pre class=\"function-repr-contents function-repr-contents-collapsed\" style=\"\"><a class=\"filepath\" style=\"display:none\" href=\"#\">/content/&lt;ipython-input-5-c79127fb6399&gt;</a>&lt;no docstring&gt;</pre></div>"
            ]
          },
          "metadata": {},
          "execution_count": 5
        }
      ]
    },
    {
      "cell_type": "markdown",
      "source": [
        "### A-3. 輸入格式整理"
      ],
      "metadata": {
        "id": "e772ToPkb6ZS"
      }
    },
    {
      "cell_type": "code",
      "source": [
        "# 將 28x28 二維陣列轉為長度 784 的一維陣列\n",
        "x_train = x_train.reshape(60000, 784)/255\n",
        "x_test = x_test.reshape(10000, 784)/255\n",
        "\n",
        "# 1-hot encoding\n",
        "y_train = to_categorical(y_train, 10)\n",
        "y_test = to_categorical(y_test, 10)"
      ],
      "metadata": {
        "id": "h9BxJsdXcDjw"
      },
      "execution_count": null,
      "outputs": []
    },
    {
      "cell_type": "markdown",
      "source": [
        "## B. 創建神經網路\n",
        "\n",
        "建立屬於自己的神經網路。"
      ],
      "metadata": {
        "id": "xmYiCJAMdyTy"
      }
    },
    {
      "cell_type": "markdown",
      "source": [
        "### B-1. 定義神經基本架構\n",
        "\n",
        "備註：我解決了範例中的警告 (UserWarning: Do not pass an `input_shape`/`input_dim` argument to a layer...)\n",
        "\n",
        "特點：\n",
        "* 使用 Normal Distrubution 初始化神經元的權重, 避免 Symmetry Breaking。\n",
        "* 大幅提高輸入層的神經元個數, 能擷取和分析更豐富的訊息。\n",
        "* 隱藏層數量提高為 5 層, 神經元數量逐漸減少, 壓縮抽象訊息。\n"
      ],
      "metadata": {
        "id": "NYhlKc54pNcB"
      }
    },
    {
      "cell_type": "code",
      "source": [
        "# 引入標準神經網路\n",
        "model = Sequential()\n",
        "\n",
        "# 添加輸入層: 使用 Input() 明確定義輸入形狀 (解決 warning 訊息!)\n",
        "model.add(Input(shape=(784,)))\n",
        "\n",
        "# 添加第一個隱藏層\n",
        "N1 = 512\n",
        "model.add(Dense(units=N1, kernel_initializer='normal', activation='relu'))\n",
        "\n",
        "# 添加隱藏層\n",
        "N2 = 512\n",
        "N3 = 256\n",
        "N4 = 128\n",
        "model.add(Dense(units=N2, activation='relu'))\n",
        "model.add(Dense(units=N3, activation='relu'))\n",
        "model.add(Dense(units=N4, activation='relu'))\n",
        "\n",
        "# 添加輸出層: softmax 激發函數使 Sigma(y)=1\n",
        "N5 = 10\n",
        "model.add(Dense(units=N5, activation='softmax'))"
      ],
      "metadata": {
        "id": "i0LfqLM4d0vJ"
      },
      "execution_count": null,
      "outputs": []
    },
    {
      "cell_type": "markdown",
      "source": [
        "### B-2. 編譯神經網路"
      ],
      "metadata": {
        "id": "fOgv33m0fDmF"
      }
    },
    {
      "cell_type": "code",
      "source": [
        "# 設定 loss function, optimizer, metrics\n",
        "model.compile(loss='categorical_crossentropy', optimizer='adam', metrics=['accuracy'])\n",
        "\n",
        "#### 筆記 ####\n",
        "# loss: 使用 categorical_crossentropy（交叉熵），適用於多分類問題\n",
        "# optimizer: 選擇 Adam ，他有自適應學習率，收斂速度快，效果穩定\n",
        "# metrics: 使用參數 accuracy 來監測模型表現\n",
        "\n",
        "\n",
        "model.summary() # 檢視 NN\n",
        "\n",
        "#### 筆記 ####\n",
        "# 第一層 (輸入層 + 隱藏層): N1 = 512\n",
        "# 參數量: (784 * 512) + 512 = 401,920\n",
        "\n",
        "# 第二層 (隱藏層)\n",
        "# 參數計算: (512 * 512) + 512 = 262,656\n",
        "\n",
        "# 第三層 (隱藏層)\n",
        "# 參數計算: (512 * 256) + 256 = 131,328\n",
        "\n",
        "# 第四層 (隱藏層)\n",
        "# 參數計算: (256 * 128) + 128 = 32,896\n",
        "\n",
        "# 第五層 (輸出層, 10 個分類)\n",
        "# 參數計算: (128 * 10) + 10 = 1,290\n",
        "\n",
        "# 參數總量: 401,920 + 262,656 + 131,328 + 32,896 + 1,290 = 830,090"
      ],
      "metadata": {
        "id": "qgqNNF9-fEwd",
        "colab": {
          "base_uri": "https://localhost:8080/",
          "height": 357
        },
        "outputId": "5414b191-a372-4269-ddb4-8ce7ea81e002"
      },
      "execution_count": null,
      "outputs": [
        {
          "output_type": "display_data",
          "data": {
            "text/plain": [
              "\u001b[1mModel: \"sequential\"\u001b[0m\n"
            ],
            "text/html": [
              "<pre style=\"white-space:pre;overflow-x:auto;line-height:normal;font-family:Menlo,'DejaVu Sans Mono',consolas,'Courier New',monospace\"><span style=\"font-weight: bold\">Model: \"sequential\"</span>\n",
              "</pre>\n"
            ]
          },
          "metadata": {}
        },
        {
          "output_type": "display_data",
          "data": {
            "text/plain": [
              "┏━━━━━━━━━━━━━━━━━━━━━━━━━━━━━━━━━━━━━━┳━━━━━━━━━━━━━━━━━━━━━━━━━━━━━┳━━━━━━━━━━━━━━━━━┓\n",
              "┃\u001b[1m \u001b[0m\u001b[1mLayer (type)                        \u001b[0m\u001b[1m \u001b[0m┃\u001b[1m \u001b[0m\u001b[1mOutput Shape               \u001b[0m\u001b[1m \u001b[0m┃\u001b[1m \u001b[0m\u001b[1m        Param #\u001b[0m\u001b[1m \u001b[0m┃\n",
              "┡━━━━━━━━━━━━━━━━━━━━━━━━━━━━━━━━━━━━━━╇━━━━━━━━━━━━━━━━━━━━━━━━━━━━━╇━━━━━━━━━━━━━━━━━┩\n",
              "│ dense (\u001b[38;5;33mDense\u001b[0m)                        │ (\u001b[38;5;45mNone\u001b[0m, \u001b[38;5;34m512\u001b[0m)                 │         \u001b[38;5;34m401,920\u001b[0m │\n",
              "├──────────────────────────────────────┼─────────────────────────────┼─────────────────┤\n",
              "│ dense_1 (\u001b[38;5;33mDense\u001b[0m)                      │ (\u001b[38;5;45mNone\u001b[0m, \u001b[38;5;34m512\u001b[0m)                 │         \u001b[38;5;34m262,656\u001b[0m │\n",
              "├──────────────────────────────────────┼─────────────────────────────┼─────────────────┤\n",
              "│ dense_2 (\u001b[38;5;33mDense\u001b[0m)                      │ (\u001b[38;5;45mNone\u001b[0m, \u001b[38;5;34m256\u001b[0m)                 │         \u001b[38;5;34m131,328\u001b[0m │\n",
              "├──────────────────────────────────────┼─────────────────────────────┼─────────────────┤\n",
              "│ dense_3 (\u001b[38;5;33mDense\u001b[0m)                      │ (\u001b[38;5;45mNone\u001b[0m, \u001b[38;5;34m128\u001b[0m)                 │          \u001b[38;5;34m32,896\u001b[0m │\n",
              "├──────────────────────────────────────┼─────────────────────────────┼─────────────────┤\n",
              "│ dense_4 (\u001b[38;5;33mDense\u001b[0m)                      │ (\u001b[38;5;45mNone\u001b[0m, \u001b[38;5;34m10\u001b[0m)                  │           \u001b[38;5;34m1,290\u001b[0m │\n",
              "└──────────────────────────────────────┴─────────────────────────────┴─────────────────┘\n"
            ],
            "text/html": [
              "<pre style=\"white-space:pre;overflow-x:auto;line-height:normal;font-family:Menlo,'DejaVu Sans Mono',consolas,'Courier New',monospace\">┏━━━━━━━━━━━━━━━━━━━━━━━━━━━━━━━━━━━━━━┳━━━━━━━━━━━━━━━━━━━━━━━━━━━━━┳━━━━━━━━━━━━━━━━━┓\n",
              "┃<span style=\"font-weight: bold\"> Layer (type)                         </span>┃<span style=\"font-weight: bold\"> Output Shape                </span>┃<span style=\"font-weight: bold\">         Param # </span>┃\n",
              "┡━━━━━━━━━━━━━━━━━━━━━━━━━━━━━━━━━━━━━━╇━━━━━━━━━━━━━━━━━━━━━━━━━━━━━╇━━━━━━━━━━━━━━━━━┩\n",
              "│ dense (<span style=\"color: #0087ff; text-decoration-color: #0087ff\">Dense</span>)                        │ (<span style=\"color: #00d7ff; text-decoration-color: #00d7ff\">None</span>, <span style=\"color: #00af00; text-decoration-color: #00af00\">512</span>)                 │         <span style=\"color: #00af00; text-decoration-color: #00af00\">401,920</span> │\n",
              "├──────────────────────────────────────┼─────────────────────────────┼─────────────────┤\n",
              "│ dense_1 (<span style=\"color: #0087ff; text-decoration-color: #0087ff\">Dense</span>)                      │ (<span style=\"color: #00d7ff; text-decoration-color: #00d7ff\">None</span>, <span style=\"color: #00af00; text-decoration-color: #00af00\">512</span>)                 │         <span style=\"color: #00af00; text-decoration-color: #00af00\">262,656</span> │\n",
              "├──────────────────────────────────────┼─────────────────────────────┼─────────────────┤\n",
              "│ dense_2 (<span style=\"color: #0087ff; text-decoration-color: #0087ff\">Dense</span>)                      │ (<span style=\"color: #00d7ff; text-decoration-color: #00d7ff\">None</span>, <span style=\"color: #00af00; text-decoration-color: #00af00\">256</span>)                 │         <span style=\"color: #00af00; text-decoration-color: #00af00\">131,328</span> │\n",
              "├──────────────────────────────────────┼─────────────────────────────┼─────────────────┤\n",
              "│ dense_3 (<span style=\"color: #0087ff; text-decoration-color: #0087ff\">Dense</span>)                      │ (<span style=\"color: #00d7ff; text-decoration-color: #00d7ff\">None</span>, <span style=\"color: #00af00; text-decoration-color: #00af00\">128</span>)                 │          <span style=\"color: #00af00; text-decoration-color: #00af00\">32,896</span> │\n",
              "├──────────────────────────────────────┼─────────────────────────────┼─────────────────┤\n",
              "│ dense_4 (<span style=\"color: #0087ff; text-decoration-color: #0087ff\">Dense</span>)                      │ (<span style=\"color: #00d7ff; text-decoration-color: #00d7ff\">None</span>, <span style=\"color: #00af00; text-decoration-color: #00af00\">10</span>)                  │           <span style=\"color: #00af00; text-decoration-color: #00af00\">1,290</span> │\n",
              "└──────────────────────────────────────┴─────────────────────────────┴─────────────────┘\n",
              "</pre>\n"
            ]
          },
          "metadata": {}
        },
        {
          "output_type": "display_data",
          "data": {
            "text/plain": [
              "\u001b[1m Total params: \u001b[0m\u001b[38;5;34m830,090\u001b[0m (3.17 MB)\n"
            ],
            "text/html": [
              "<pre style=\"white-space:pre;overflow-x:auto;line-height:normal;font-family:Menlo,'DejaVu Sans Mono',consolas,'Courier New',monospace\"><span style=\"font-weight: bold\"> Total params: </span><span style=\"color: #00af00; text-decoration-color: #00af00\">830,090</span> (3.17 MB)\n",
              "</pre>\n"
            ]
          },
          "metadata": {}
        },
        {
          "output_type": "display_data",
          "data": {
            "text/plain": [
              "\u001b[1m Trainable params: \u001b[0m\u001b[38;5;34m830,090\u001b[0m (3.17 MB)\n"
            ],
            "text/html": [
              "<pre style=\"white-space:pre;overflow-x:auto;line-height:normal;font-family:Menlo,'DejaVu Sans Mono',consolas,'Courier New',monospace\"><span style=\"font-weight: bold\"> Trainable params: </span><span style=\"color: #00af00; text-decoration-color: #00af00\">830,090</span> (3.17 MB)\n",
              "</pre>\n"
            ]
          },
          "metadata": {}
        },
        {
          "output_type": "display_data",
          "data": {
            "text/plain": [
              "\u001b[1m Non-trainable params: \u001b[0m\u001b[38;5;34m0\u001b[0m (0.00 B)\n"
            ],
            "text/html": [
              "<pre style=\"white-space:pre;overflow-x:auto;line-height:normal;font-family:Menlo,'DejaVu Sans Mono',consolas,'Courier New',monospace\"><span style=\"font-weight: bold\"> Non-trainable params: </span><span style=\"color: #00af00; text-decoration-color: #00af00\">0</span> (0.00 B)\n",
              "</pre>\n"
            ]
          },
          "metadata": {}
        }
      ]
    },
    {
      "cell_type": "markdown",
      "source": [
        "### B-3. 模型訓練\n",
        "\n",
        "須設置超參數。\n"
      ],
      "metadata": {
        "id": "u_MmGWzJfjJx"
      }
    },
    {
      "cell_type": "code",
      "source": [
        "# 訓練模型\n",
        "train_history = model.fit(\n",
        "    x=x_train,\n",
        "    y=y_train,\n",
        "    validation_split=0.2,  # 割出20%的數據作為驗證集\n",
        "    epochs=30,       # 訓練25個週期\n",
        "    batch_size=200,  # 每次梯度更新使用200筆數據\n",
        "    verbose=2    # 顯示訓練過程（0:預設,1:進度條,2:每輪簡要輸出）\n",
        ")"
      ],
      "metadata": {
        "id": "OHaVNccMfm5x",
        "colab": {
          "base_uri": "https://localhost:8080/"
        },
        "outputId": "fd34b755-d794-4391-f941-0d527ecb440a"
      },
      "execution_count": null,
      "outputs": [
        {
          "output_type": "stream",
          "name": "stdout",
          "text": [
            "Epoch 1/30\n",
            "240/240 - 11s - 44ms/step - accuracy: 0.9218 - loss: 0.2713 - val_accuracy: 0.9570 - val_loss: 0.1431\n",
            "Epoch 2/30\n",
            "240/240 - 1s - 4ms/step - accuracy: 0.9703 - loss: 0.0961 - val_accuracy: 0.9670 - val_loss: 0.1127\n",
            "Epoch 3/30\n",
            "240/240 - 1s - 5ms/step - accuracy: 0.9811 - loss: 0.0611 - val_accuracy: 0.9689 - val_loss: 0.1016\n",
            "Epoch 4/30\n",
            "240/240 - 1s - 5ms/step - accuracy: 0.9865 - loss: 0.0432 - val_accuracy: 0.9713 - val_loss: 0.0972\n",
            "Epoch 5/30\n",
            "240/240 - 1s - 4ms/step - accuracy: 0.9898 - loss: 0.0308 - val_accuracy: 0.9728 - val_loss: 0.0956\n",
            "Epoch 6/30\n",
            "240/240 - 1s - 6ms/step - accuracy: 0.9914 - loss: 0.0259 - val_accuracy: 0.9727 - val_loss: 0.1073\n",
            "Epoch 7/30\n",
            "240/240 - 1s - 4ms/step - accuracy: 0.9917 - loss: 0.0269 - val_accuracy: 0.9764 - val_loss: 0.0911\n",
            "Epoch 8/30\n",
            "240/240 - 1s - 4ms/step - accuracy: 0.9942 - loss: 0.0189 - val_accuracy: 0.9743 - val_loss: 0.1075\n",
            "Epoch 9/30\n",
            "240/240 - 2s - 7ms/step - accuracy: 0.9940 - loss: 0.0190 - val_accuracy: 0.9726 - val_loss: 0.1102\n",
            "Epoch 10/30\n",
            "240/240 - 1s - 4ms/step - accuracy: 0.9938 - loss: 0.0197 - val_accuracy: 0.9763 - val_loss: 0.1059\n",
            "Epoch 11/30\n",
            "240/240 - 1s - 5ms/step - accuracy: 0.9954 - loss: 0.0148 - val_accuracy: 0.9772 - val_loss: 0.0927\n",
            "Epoch 12/30\n",
            "240/240 - 1s - 4ms/step - accuracy: 0.9958 - loss: 0.0130 - val_accuracy: 0.9772 - val_loss: 0.0935\n",
            "Epoch 13/30\n",
            "240/240 - 1s - 4ms/step - accuracy: 0.9974 - loss: 0.0081 - val_accuracy: 0.9778 - val_loss: 0.1042\n",
            "Epoch 14/30\n",
            "240/240 - 1s - 4ms/step - accuracy: 0.9956 - loss: 0.0147 - val_accuracy: 0.9723 - val_loss: 0.1300\n",
            "Epoch 15/30\n",
            "240/240 - 1s - 4ms/step - accuracy: 0.9960 - loss: 0.0126 - val_accuracy: 0.9793 - val_loss: 0.0982\n",
            "Epoch 16/30\n",
            "240/240 - 1s - 5ms/step - accuracy: 0.9966 - loss: 0.0116 - val_accuracy: 0.9787 - val_loss: 0.0992\n",
            "Epoch 17/30\n",
            "240/240 - 1s - 4ms/step - accuracy: 0.9969 - loss: 0.0101 - val_accuracy: 0.9776 - val_loss: 0.1119\n",
            "Epoch 18/30\n",
            "240/240 - 1s - 4ms/step - accuracy: 0.9959 - loss: 0.0128 - val_accuracy: 0.9753 - val_loss: 0.1153\n",
            "Epoch 19/30\n",
            "240/240 - 1s - 5ms/step - accuracy: 0.9975 - loss: 0.0078 - val_accuracy: 0.9798 - val_loss: 0.1109\n",
            "Epoch 20/30\n",
            "240/240 - 2s - 6ms/step - accuracy: 0.9971 - loss: 0.0092 - val_accuracy: 0.9779 - val_loss: 0.1121\n",
            "Epoch 21/30\n",
            "240/240 - 1s - 6ms/step - accuracy: 0.9965 - loss: 0.0116 - val_accuracy: 0.9777 - val_loss: 0.1116\n",
            "Epoch 22/30\n",
            "240/240 - 1s - 4ms/step - accuracy: 0.9978 - loss: 0.0073 - val_accuracy: 0.9798 - val_loss: 0.0997\n",
            "Epoch 23/30\n",
            "240/240 - 1s - 4ms/step - accuracy: 0.9979 - loss: 0.0070 - val_accuracy: 0.9796 - val_loss: 0.1068\n",
            "Epoch 24/30\n",
            "240/240 - 1s - 5ms/step - accuracy: 0.9975 - loss: 0.0083 - val_accuracy: 0.9787 - val_loss: 0.1158\n",
            "Epoch 25/30\n",
            "240/240 - 1s - 4ms/step - accuracy: 0.9971 - loss: 0.0097 - val_accuracy: 0.9786 - val_loss: 0.1064\n",
            "Epoch 26/30\n",
            "240/240 - 1s - 5ms/step - accuracy: 0.9983 - loss: 0.0064 - val_accuracy: 0.9795 - val_loss: 0.1077\n",
            "Epoch 27/30\n",
            "240/240 - 1s - 4ms/step - accuracy: 0.9956 - loss: 0.0136 - val_accuracy: 0.9802 - val_loss: 0.0959\n",
            "Epoch 28/30\n",
            "240/240 - 1s - 5ms/step - accuracy: 0.9978 - loss: 0.0069 - val_accuracy: 0.9808 - val_loss: 0.1042\n",
            "Epoch 29/30\n",
            "240/240 - 1s - 6ms/step - accuracy: 0.9978 - loss: 0.0074 - val_accuracy: 0.9781 - val_loss: 0.1199\n",
            "Epoch 30/30\n",
            "240/240 - 3s - 12ms/step - accuracy: 0.9977 - loss: 0.0078 - val_accuracy: 0.9762 - val_loss: 0.1367\n"
          ]
        }
      ]
    },
    {
      "cell_type": "markdown",
      "source": [
        "### B-4. 觀看訓練過程\n",
        "\n",
        "> 參考資料: [來把訓練過程畫出來](https://gist.githubusercontent.com/SYkkk55/57c5d68660dca74416d62bf4e6f7c159/raw/c303605940f561068e567c01f0134dd8db026052/plot%20train%20history.py)\n",
        "\n",
        "使用第一堂課程所學的 matplotlib 繪製圖表 !"
      ],
      "metadata": {
        "id": "z5XTdACn2MOW"
      }
    },
    {
      "cell_type": "code",
      "source": [
        "import matplotlib.pyplot as plt\n",
        "\n",
        "# 繪製訓練過程\n",
        "def plot_train_history(train_history):\n",
        "    plt.figure(figsize=(12, 5))\n",
        "\n",
        "    # 繪製準確率\n",
        "    plt.subplot(1, 2, 1)\n",
        "    plt.plot(train_history.history['accuracy'], label='Train Accuracy')\n",
        "    plt.plot(train_history.history['val_accuracy'], label='Validation Accuracy')\n",
        "    plt.title('Train History - Accuracy')\n",
        "    plt.xlabel('Epoch')\n",
        "    plt.ylabel('Accuracy')\n",
        "    plt.legend()\n",
        "\n",
        "    # 繪製損失值\n",
        "    plt.subplot(1, 2, 2)\n",
        "    plt.plot(train_history.history['loss'], label='Train Loss')\n",
        "    plt.plot(train_history.history['val_loss'], label='Validation Loss')\n",
        "    plt.title('Train History - Loss')\n",
        "    plt.xlabel('Epoch')\n",
        "    plt.ylabel('Loss')\n",
        "    plt.legend()\n",
        "\n",
        "    plt.show()\n",
        "\n",
        "# 繪製圖表\n",
        "plot_train_history(train_history)\n",
        "\n",
        "\n",
        "#### 筆記 ####\n",
        "# 使用 Matplotlib 繪製訓練歷史記錄\n",
        "# 左圖: 準確率變化 => 觀察是否有過擬合（訓練集高但驗證集低）\n",
        "# 右圖: 損失值變化 => 目標是 loss 下降且收斂，避免 loss 持續上升（過擬合）\n",
        "\n",
        "# 結論：實測後在 epochs 比較低時(實測過10/15/20), validation acc 一直呈現劇烈的波動\n",
        "# epochs 數量提高後會比較穩定一些\n",
        "# 但是在 epochs=50 時, validation loss 極具飆升, 已經過擬合了\n",
        "# 所以最終選擇 epochs=30, 呈現的圖表比較完美！"
      ],
      "metadata": {
        "colab": {
          "base_uri": "https://localhost:8080/",
          "height": 487
        },
        "id": "1oDPZ0VP2LQP",
        "outputId": "704ff193-737c-40f9-ecbd-84b2750f5bc6"
      },
      "execution_count": null,
      "outputs": [
        {
          "output_type": "display_data",
          "data": {
            "text/plain": [
              "<Figure size 1200x500 with 2 Axes>"
            ],
            "image/png": "[encoded data removed]"
          },
          "metadata": {}
        }
      ]
    },
    {
      "cell_type": "markdown",
      "source": [
        "### B-5. 評估模型（對於原生資料集）"
      ],
      "metadata": {
        "id": "EsyeUhf4q3om"
      }
    },
    {
      "cell_type": "code",
      "source": [
        "# 評估損失與準確度\n",
        "loss, acc = model.evaluate(x_test, y_test)\n",
        "print(f'loss={loss:.2f}, acc={acc:.2f}')"
      ],
      "metadata": {
        "colab": {
          "base_uri": "https://localhost:8080/"
        },
        "id": "OjIepicpf6CU",
        "outputId": "d31cecd3-4a04-4baa-d3a7-2513eb659942"
      },
      "execution_count": null,
      "outputs": [
        {
          "output_type": "stream",
          "name": "stdout",
          "text": [
            "\u001b[1m313/313\u001b[0m \u001b[32m━━━━━━━━━━━━━━━━━━━━\u001b[0m\u001b[37m\u001b[0m \u001b[1m3s\u001b[0m 7ms/step - accuracy: 0.9727 - loss: 0.1392\n",
            "loss=0.12, acc=0.98\n"
          ]
        }
      ]
    },
    {
      "cell_type": "markdown",
      "source": [
        "### B-6. 模型部署測試\n",
        "\n",
        "實際檢視模型訓練的結果如何！"
      ],
      "metadata": {
        "id": "n-sECWgX76uI"
      }
    },
    {
      "cell_type": "code",
      "source": [
        "# 傳入學習結果\n",
        "predict = np.argmax(model.predict(x_test), axis=-1)"
      ],
      "metadata": {
        "colab": {
          "base_uri": "https://localhost:8080/"
        },
        "id": "zGceK7hZ8XQH",
        "outputId": "d3a14ace-df2f-4740-e007-798e949fde47"
      },
      "execution_count": null,
      "outputs": [
        {
          "output_type": "stream",
          "name": "stdout",
          "text": [
            "\u001b[1m313/313\u001b[0m \u001b[32m━━━━━━━━━━━━━━━━━━━━\u001b[0m\u001b[37m\u001b[0m \u001b[1m1s\u001b[0m 2ms/step\n"
          ]
        }
      ]
    },
    {
      "cell_type": "code",
      "source": [
        "# 測試函數 GUI\n",
        "def test(num):\n",
        "    plt.imshow(x_test[num].reshape(28,28), cmap='Greys')\n",
        "    print(f'ans={y_test[num].argmax()}, predict={predict[num]}')\n",
        "\n",
        "interact_manual(test, num=(0, 9999))"
      ],
      "metadata": {
        "id": "CkvfrHmegfjv",
        "colab": {
          "base_uri": "https://localhost:8080/",
          "height": 179,
          "referenced_widgets": [
            "fcafd7b27afe4ccabc426d9454d3e529",
            "881199afd6464e52b1507d8cd3e81441",
            "815d3ee58813461e975d5d2c1325e3c2",
            "6e9c4d9102924168abbbbb773a19162a",
            "4355cd851259446dabbcf2085816e10c",
            "1112ff2112ee4458a0da03b34a50040b",
            "8042172706cf42a5895c70a5a26dfc1d",
            "d6114b03d0b94ff4a3bd34b1de3aacf6",
            "c67112a87fd949719dd4211a5006e194",
            "f0026f7c23514822a0302922bfc7eeb9"
          ]
        },
        "outputId": "6b3fc5c7-4a84-4011-999d-3c921359a1a7"
      },
      "execution_count": null,
      "outputs": [
        {
          "output_type": "display_data",
          "data": {
            "text/plain": [
              "interactive(children=(IntSlider(value=4999, description='num', max=9999), Button(description='Run Interact', s…"
            ],
            "application/vnd.jupyter.widget-view+json": {
              "version_major": 2,
              "version_minor": 0,
              "model_id": "fcafd7b27afe4ccabc426d9454d3e529"
            }
          },
          "metadata": {}
        },
        {
          "output_type": "execute_result",
          "data": {
            "text/plain": [
              "<function __main__.test(num)>"
            ],
            "text/html": [
              "<div style=\"max-width:800px; border: 1px solid var(--colab-border-color);\"><style>\n",
              "      pre.function-repr-contents {\n",
              "        overflow-x: auto;\n",
              "        padding: 8px 12px;\n",
              "        max-height: 500px;\n",
              "      }\n",
              "\n",
              "      pre.function-repr-contents.function-repr-contents-collapsed {\n",
              "        cursor: pointer;\n",
              "        max-height: 100px;\n",
              "      }\n",
              "    </style>\n",
              "    <pre style=\"white-space: initial; background:\n",
              "         var(--colab-secondary-surface-color); padding: 8px 12px;\n",
              "         border-bottom: 1px solid var(--colab-border-color);\"><b>test</b><br/>def test(num)</pre><pre class=\"function-repr-contents function-repr-contents-collapsed\" style=\"\"><a class=\"filepath\" style=\"display:none\" href=\"#\">/content/&lt;ipython-input-13-54f10990e942&gt;</a>&lt;no docstring&gt;</pre></div>"
            ]
          },
          "metadata": {},
          "execution_count": 13
        }
      ]
    },
    {
      "cell_type": "markdown",
      "source": [
        "## C. 部署模型並搭配 GUI 呈現\n",
        "\n",
        "將利用 Gradio 庫簡單地製作交互界面。"
      ],
      "metadata": {
        "id": "VyX9ua-qhPRV"
      }
    },
    {
      "cell_type": "markdown",
      "source": [
        "### C-1. 處理用戶輸入的手寫圖像"
      ],
      "metadata": {
        "id": "N6Wp0In7rf9j"
      }
    },
    {
      "cell_type": "code",
      "source": [
        "# 調整圖像\n",
        "def resize_image(inp):\n",
        "    # img 在 inp[\"layers\"][0]\n",
        "    image = np.array(inp[\"layers\"][0], dtype=np.float32)\n",
        "    image = image.astype(np.uint8)\n",
        "\n",
        "    # 轉成 PLT 格式\n",
        "    image_pil = Image.fromarray(image)\n",
        "\n",
        "    # Alpha 通道設成白色, 再把 RGBA -> RGB\n",
        "    background = Image.new(\"RGB\", image_pil.size, (255,255,255))\n",
        "    background.paste(image_pil, mask=image_pil.split()[3])\n",
        "    image_pil = background\n",
        "\n",
        "    # 轉灰階\n",
        "    image_gray = image_pil.convert(\"L\")\n",
        "    img_array = np.array(image_gray.resize((28,28), resample=Image.LANCZOS))\n",
        "    img_array = 255 - img_array\n",
        "    img_array = img_array.reshape(1, 784)/255.0\n",
        "    return img_array"
      ],
      "metadata": {
        "id": "vbZio3tUhRwH"
      },
      "execution_count": null,
      "outputs": []
    },
    {
      "cell_type": "markdown",
      "source": [
        "### C-2. 部署模型"
      ],
      "metadata": {
        "id": "3c4IfQJ9r9Hq"
      }
    },
    {
      "cell_type": "code",
      "source": [
        "# 辨識數字\n",
        "def recognize_digit(inp):\n",
        "    img_array = resize_image(inp) # 影像預處理\n",
        "    prediction = model.predict(img_array).flatten() # 模型預測\n",
        "    labels = list('0123456789') # 數字標籤\n",
        "    return {labels[i]: float(prediction[i]) for i in range(10)} # 回傳數字對應機率的字典"
      ],
      "metadata": {
        "id": "RkIaeo31iXth"
      },
      "execution_count": null,
      "outputs": []
    },
    {
      "cell_type": "markdown",
      "source": [
        "### C-3. 在 Gradio Web 中呈現模型\n",
        "\n",
        "> 參考資料：老師講義和 [How to Make a Sketchpad for ML Projects in Gradio?](https://www.geeksforgeeks.org/how-to-make-a-sketchpad-for-ml-projects-in-gradio/)\n",
        "\n",
        "* optimization\n",
        "    * 更清楚有趣的界面\n",
        "    * 添加筆刷顏色\n",
        "    * 縮小繪圖空間避免版面炸掉"
      ],
      "metadata": {
        "id": "iwIYp41esagY"
      }
    },
    {
      "cell_type": "code",
      "source": [
        "# custom css\n",
        "css = \"\"\"\n",
        ".gradio-sketchpad canvas {\n",
        "    background-color: #333333 !important; /* 深灰色背景 */\n",
        "}\n",
        "\"\"\""
      ],
      "metadata": {
        "id": "5DET4p4x9xs7"
      },
      "execution_count": null,
      "outputs": []
    },
    {
      "cell_type": "code",
      "source": [
        "# 定義筆刷樣式 (issue: https://github.com/gradio-app/gradio/issues/9105)\n",
        "brush=gr.Brush(colors=[\"#00FF00\", \"#FF0000\"], color_mode='fixed')\n",
        "\n",
        "# 創建 gradio 界面\n",
        "iface = gr.Interface(\n",
        "    fn=recognize_digit,  # 指定處理函式\n",
        "    inputs=gr.Sketchpad(width=650, height=650, brush=brush),  # 設定頁面和筆刷\n",
        "    outputs=gr.Label(num_top_classes=3, label=\"Prediction Result\"),  # 自訂輸出標籤\n",
        "    title=\"🖌️ Handwritten Digit Recognition 🖌️\",\n",
        "    description=\"\"\"\n",
        "       <div style='text-align: center; font-size: 16px; color: white;'>\n",
        "        ✨ 請在繪圖區手寫數字，模型會嘗試辨識出你寫的數字！✨\n",
        "        </div>\n",
        "    \"\"\",\n",
        "    theme=\"soft\",  # 柔和風主題\n",
        "    live=True  # 預測即時更新\n",
        ")\n",
        "\n",
        "# 啟動 Web 介面\n",
        "iface.launch(share=True, debug=True)\n"
      ],
      "metadata": {
        "id": "BY1JdMmJisgC",
        "colab": {
          "base_uri": "https://localhost:8080/",
          "height": 647
        },
        "outputId": "d605b089-6e90-43dc-d355-38973e7bb3c4"
      },
      "execution_count": null,
      "outputs": [
        {
          "output_type": "stream",
          "name": "stdout",
          "text": [
            "Colab notebook detected. This cell will run indefinitely so that you can see errors and logs. To turn off, set debug=False in launch().\n",
            "* Running on public URL: https://1ef2d365850f437559.gradio.live\n",
            "\n",
            "This share link expires in 72 hours. For free permanent hosting and GPU upgrades, run `gradio deploy` from the terminal in the working directory to deploy to Hugging Face Spaces (https://huggingface.co/spaces)\n"
          ]
        },
        {
          "output_type": "display_data",
          "data": {
            "text/plain": [
              "<IPython.core.display.HTML object>"
            ],
            "text/html": [
              "<div><iframe src=\"https://1ef2d365850f437559.gradio.live\" width=\"100%\" height=\"500\" allow=\"autoplay; camera; microphone; clipboard-read; clipboard-write;\" frameborder=\"0\" allowfullscreen></iframe></div>"
            ]
          },
          "metadata": {}
        },
        {
          "output_type": "stream",
          "name": "stdout",
          "text": [
            "\u001b[1m1/1\u001b[0m \u001b[32m━━━━━━━━━━━━━━━━━━━━\u001b[0m\u001b[37m\u001b[0m \u001b[1m0s\u001b[0m 464ms/step\n"
          ]
        }
      ]
    }
  ]
}